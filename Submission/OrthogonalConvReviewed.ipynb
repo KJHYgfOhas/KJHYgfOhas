{
 "cells": [
  {
   "cell_type": "markdown",
   "metadata": {},
   "source": [
    "# Cyclic Orthogonal Convolutions\n",
    "\n",
    "The aim of this notebook is to present the main results of the paper: \"Cyclic orthogonal convolutions for long-rangeintegration of features\".\n",
    "\n",
    "It is divided in four main sections corresponding to the three main experiments studied in the paper.\n",
    "\n",
    "- CIFAR-10\n",
    "- ImageNet, Stylized-ImageNet and Cue Conflict\n",
    "- Receptive fields\n",
    "- Pathfinder\n",
    "\n",
    "In each section, the user can load a pre-trained model and evaluate its performance.\n",
    "A few of the models showed in the paper are available in this repository, one for each set of parameters.\n",
    "This notebook is intended be used for evaluation only, not for training. \n",
    "\n",
    "Note that the code runs on GPU. This notebook runs on Tensorflow 1.15.0 and Python 3.6.8.\n",
    "\n",
    "When loading a model, the option model=\"CNN\" refers to a standard convolutional network, while model=\"CycleNet\" corresponds to the new proposed architecture. Other parameters corresponds to those explained in the paper: 'depth' is the number of layers, 'kernel' is the kernel size."
   ]
  },
  {
   "cell_type": "markdown",
   "metadata": {},
   "source": [
    "### Imports and setting up the environement"
   ]
  },
  {
   "cell_type": "code",
   "execution_count": 1,
   "metadata": {},
   "outputs": [
    {
     "name": "stdout",
     "output_type": "stream",
     "text": [
      "Requirement already up-to-date: scikit-learn in /usr/local/lib/python3.6/dist-packages (0.23.1)\n",
      "Requirement already satisfied, skipping upgrade: threadpoolctl>=2.0.0 in /usr/local/lib/python3.6/dist-packages (from scikit-learn) (2.1.0)\n",
      "Requirement already satisfied, skipping upgrade: joblib>=0.11 in /usr/local/lib/python3.6/dist-packages (from scikit-learn) (0.15.1)\n",
      "Requirement already satisfied, skipping upgrade: numpy>=1.13.3 in /usr/local/lib/python3.6/dist-packages (from scikit-learn) (1.17.3)\n",
      "Requirement already satisfied, skipping upgrade: scipy>=0.19.1 in /usr/local/lib/python3.6/dist-packages (from scikit-learn) (1.5.0)\n",
      "\u001b[33mWARNING: You are using pip version 19.3.1; however, version 20.1.1 is available.\n",
      "You should consider upgrading via the 'pip install --upgrade pip' command.\u001b[0m\n"
     ]
    }
   ],
   "source": [
    "!pip install -U scikit-learn"
   ]
  },
  {
   "cell_type": "code",
   "execution_count": 2,
   "metadata": {},
   "outputs": [],
   "source": [
    "import os\n",
    "import tensorflow as tf\n",
    "from tensorflow.keras.models import load_model\n",
    "import matplotlib.pyplot as plt\n",
    "import numpy as np\n",
    "from layers.CNNCycle import CNNCycle\n",
    "from layers.BilinearInterpolate3D import BilinearInterpolate3D\n",
    "from layers.CycleNetCycle import NetXCycle\n",
    "from image_classification.imagenet.helpers.imagenet_dataset import get_dataset\n",
    "from image_classification.imagenet.helpers.imagenet_helpers import top_1_accuracy, top_5_accuracy\n",
    "from image_classification.cifar10.helpers.cifar10_dataset import *\n",
    "from saliency.helpers.saliency import *\n",
    "from image_classification.imagenet.helpers.cue_conflict_mapping import superclasses, superclasses_names, predicted_superclass\n",
    "from sklearn.metrics import accuracy_score\n",
    "import pickle"
   ]
  },
  {
   "cell_type": "code",
   "execution_count": 3,
   "metadata": {},
   "outputs": [],
   "source": [
    "# # Setting a GPU memory fraction used (if desired) to limit resource usage\n",
    "# gpu_memory_fraction = 0.4\n",
    "# gpu_options = tf.compat.v1.GPUOptions(per_process_gpu_memory_fraction=gpu_memory_fraction)\n",
    "# tf.compat.v1.Session(config=tf.compat.v1.ConfigProto(gpu_options=gpu_options))"
   ]
  },
  {
   "cell_type": "code",
   "execution_count": 4,
   "metadata": {},
   "outputs": [],
   "source": [
    "# Set larger batch size to speed up evaluation times, or smaller to avoid OOM issues.\n",
    "BATCH_SIZE = 64"
   ]
  },
  {
   "cell_type": "markdown",
   "metadata": {},
   "source": [
    "## CIFAR-10\n",
    "\n",
    "- Load dataset\n",
    "- Load model\n",
    "- Show model summary\n",
    "- Evaluate model"
   ]
  },
  {
   "cell_type": "code",
   "execution_count": 5,
   "metadata": {},
   "outputs": [],
   "source": [
    "# Set dataset path and load dataset\n",
    "cifar_dataset_path = 'image_classification/cifar10/data/CIFAR-10_test.h5'\n",
    "x_test, y_test = read_h5_dataset(cifar_dataset_path)"
   ]
  },
  {
   "cell_type": "code",
   "execution_count": 6,
   "metadata": {},
   "outputs": [
    {
     "name": "stdout",
     "output_type": "stream",
     "text": [
      "WARNING:tensorflow:From /usr/local/lib/python3.6/dist-packages/tensorflow_core/python/ops/init_ops.py:97: calling VarianceScaling.__init__ (from tensorflow.python.ops.init_ops) with dtype is deprecated and will be removed in a future version.\n",
      "Instructions for updating:\n",
      "Call initializer instance with the dtype argument instead of passing it to the constructor\n",
      "WARNING:tensorflow:From /usr/local/lib/python3.6/dist-packages/tensorflow_core/python/ops/init_ops.py:97: calling Zeros.__init__ (from tensorflow.python.ops.init_ops) with dtype is deprecated and will be removed in a future version.\n",
      "Instructions for updating:\n",
      "Call initializer instance with the dtype argument instead of passing it to the constructor\n",
      "WARNING:tensorflow:From /usr/local/lib/python3.6/dist-packages/tensorflow_core/python/ops/init_ops.py:97: calling Ones.__init__ (from tensorflow.python.ops.init_ops) with dtype is deprecated and will be removed in a future version.\n",
      "Instructions for updating:\n",
      "Call initializer instance with the dtype argument instead of passing it to the constructor\n",
      "WARNING:tensorflow:From /usr/local/lib/python3.6/dist-packages/tensorflow_core/python/ops/init_ops.py:97: calling GlorotUniform.__init__ (from tensorflow.python.ops.init_ops) with dtype is deprecated and will be removed in a future version.\n",
      "Instructions for updating:\n",
      "Call initializer instance with the dtype argument instead of passing it to the constructor\n",
      "WARNING:tensorflow:From /usr/local/lib/python3.6/dist-packages/tensorflow_core/python/ops/resource_variable_ops.py:1630: calling BaseResourceVariable.__init__ (from tensorflow.python.ops.resource_variable_ops) with constraint is deprecated and will be removed in a future version.\n",
      "Instructions for updating:\n",
      "If using Keras pass *_constraint arguments to layers.\n",
      "WARNING:tensorflow:From /tf/MtkResearch/KJHYgfOhas/Submission/layers/BilinearInterpolate3D.py:20: The name tf.image.resize_bilinear is deprecated. Please use tf.compat.v1.image.resize_bilinear instead.\n",
      "\n"
     ]
    }
   ],
   "source": [
    "# Load desired model\n",
    "model = \"CNN\"    # \"CycleNet\" or \"CNN\"\n",
    "depth = 3          # 3, 6, 9, 12, 15 or 18\n",
    "cifar_model_path = 'image_classification/cifar10/models/'+model+'_models/'+model+'_cifar10_depth'+str(depth)+'.h5'\n",
    "cifar_model = load_model(cifar_model_path, custom_objects={'BilinearInterpolate3D': BilinearInterpolate3D})"
   ]
  },
  {
   "cell_type": "code",
   "execution_count": 7,
   "metadata": {
    "scrolled": true
   },
   "outputs": [
    {
     "name": "stdout",
     "output_type": "stream",
     "text": [
      "Model: \"encoder\"\n",
      "_________________________________________________________________\n",
      "Layer (type)                 Output Shape              Param #   \n",
      "=================================================================\n",
      "encoder_input (InputLayer)   [(None, 32, 32, 3)]       0         \n",
      "_________________________________________________________________\n",
      "conv2d (Conv2D)              (None, 32, 32, 80)        2240      \n",
      "_________________________________________________________________\n",
      "batch_normalization_v1 (Batc (None, 32, 32, 80)        320       \n",
      "_________________________________________________________________\n",
      "activation (Activation)      (None, 32, 32, 80)        0         \n",
      "_________________________________________________________________\n",
      "bilinear_interpolate3d (Bili (None, 5, 5, 5)           0         \n",
      "_________________________________________________________________\n",
      "conv2d_1 (Conv2D)            (None, 5, 5, 5)           230       \n",
      "_________________________________________________________________\n",
      "batch_normalization_v1_1 (Ba (None, 5, 5, 5)           20        \n",
      "_________________________________________________________________\n",
      "activation_1 (Activation)    (None, 5, 5, 5)           0         \n",
      "_________________________________________________________________\n",
      "dropout (Dropout)            (None, 5, 5, 5)           0         \n",
      "_________________________________________________________________\n",
      "conv2d_2 (Conv2D)            (None, 5, 5, 5)           230       \n",
      "_________________________________________________________________\n",
      "batch_normalization_v1_2 (Ba (None, 5, 5, 5)           20        \n",
      "_________________________________________________________________\n",
      "activation_2 (Activation)    (None, 5, 5, 5)           0         \n",
      "_________________________________________________________________\n",
      "dropout_1 (Dropout)          (None, 5, 5, 5)           0         \n",
      "_________________________________________________________________\n",
      "conv2d_3 (Conv2D)            (None, 5, 5, 5)           230       \n",
      "_________________________________________________________________\n",
      "batch_normalization_v1_3 (Ba (None, 5, 5, 5)           20        \n",
      "_________________________________________________________________\n",
      "activation_3 (Activation)    (None, 5, 5, 5)           0         \n",
      "_________________________________________________________________\n",
      "dropout_2 (Dropout)          (None, 5, 5, 5)           0         \n",
      "_________________________________________________________________\n",
      "flatten (Flatten)            (None, 125)               0         \n",
      "_________________________________________________________________\n",
      "output_0 (Dense)             (None, 10)                1260      \n",
      "=================================================================\n",
      "Total params: 4,570\n",
      "Trainable params: 4,380\n",
      "Non-trainable params: 190\n",
      "_________________________________________________________________\n"
     ]
    }
   ],
   "source": [
    "# Print model summary\n",
    "cifar_model.summary()"
   ]
  },
  {
   "cell_type": "code",
   "execution_count": 8,
   "metadata": {},
   "outputs": [
    {
     "name": "stdout",
     "output_type": "stream",
     "text": [
      "10000/10000 [==============================] - 1s 134us/sample - loss: 1.5254 - acc: 0.4537\n"
     ]
    }
   ],
   "source": [
    "# Evaluating \n",
    "metrics_cifar = cifar_model.evaluate(x_test, y_test, batch_size=BATCH_SIZE)"
   ]
  },
  {
   "cell_type": "markdown",
   "metadata": {},
   "source": [
    "## ImageNet, Stylized-ImageNet and Cue Conflict"
   ]
  },
  {
   "cell_type": "markdown",
   "metadata": {},
   "source": [
    "<font style=\"color:red;font-size:17px;\">Note: Due to copyright restrictions, it is not possible for us to share the ImageNet and Stylized Imagenet dataset.</font>"
   ]
  },
  {
   "cell_type": "markdown",
   "metadata": {},
   "source": [
    "It is possible to source the ImageNet dataset online (at http://image-net.org/download) and the Stylized-ImageNet dataset can be generated following the instructions and scripts at https://github.com/rgeirhos/Stylized-ImageNet.\n",
    "In order to load the datasets for training and/or evaluation we use the tensorflow records format.\n",
    "We provide the scripts that can be used to convert the ImageNet and Stylized-Imagenet datasets to this format, these are located in the image_classification/imagenet/helpers/convert_tfrecords folder in this repository.\n",
    "Each of the models trained on ImageNet can be used for testing on: ImageNet, Stylized-ImageNet and Cue conflict.\n",
    "\n",
    "- Show model summary\n",
    "- Load model from a directory\n",
    "\n",
    "Then for each dataset:\n",
    "- Initialize dataset generator\n",
    "- Evaluate model\n"
   ]
  },
  {
   "cell_type": "code",
   "execution_count": 9,
   "metadata": {},
   "outputs": [],
   "source": [
    "IMAGENET_IMAGE_SIZE = 128\n",
    "\n",
    "# Load model\n",
    "nr_initial_CNN_cycles = 0                 # a number between 0 and 5 (included)\n",
    "imagenet_model_path = \"image_classification/imagenet/models/CNN-CycleNet_models/CNN\"+str(nr_initial_CNN_cycles)+\"-CycleNet\"+str(5-nr_initial_CNN_cycles)+\"_imagenet.h5\" \n",
    "imagenet_model = load_model(imagenet_model_path, custom_objects={'NetXCycle': NetXCycle, 'BilinearInterpolate3D': BilinearInterpolate3D, 'CNNCycle': CNNCycle, \"top_1_accuracy\": top_1_accuracy, \"top_5_accuracy\": top_5_accuracy, \"tf\": tf})"
   ]
  },
  {
   "cell_type": "code",
   "execution_count": 10,
   "metadata": {},
   "outputs": [
    {
     "name": "stdout",
     "output_type": "stream",
     "text": [
      "Model: \"model\"\n",
      "_________________________________________________________________\n",
      "Layer (type)                 Output Shape              Param #   \n",
      "=================================================================\n",
      "input_1 (InputLayer)         [(None, 128, 128, 3)]     0         \n",
      "_________________________________________________________________\n",
      "conv2d (Conv2D)              (None, 128, 128, 128)     3584      \n",
      "_________________________________________________________________\n",
      "batch_normalization (BatchNo (None, 128, 128, 128)     512       \n",
      "_________________________________________________________________\n",
      "activation (Activation)      (None, 128, 128, 128)     0         \n",
      "_________________________________________________________________\n",
      "bilinear_interpolate3d (Bili (None, 106, 106, 106)     0         \n",
      "_________________________________________________________________\n",
      "net_x_cycle (NetXCycle)      (None, 106, 106, 106)     304962    \n",
      "_________________________________________________________________\n",
      "bilinear_interpolate3d_1 (Bi (None, 106, 106, 106)     0         \n",
      "_________________________________________________________________\n",
      "net_x_cycle_1 (NetXCycle)    (None, 106, 106, 106)     304962    \n",
      "_________________________________________________________________\n",
      "bilinear_interpolate3d_2 (Bi (None, 106, 106, 106)     0         \n",
      "_________________________________________________________________\n",
      "net_x_cycle_2 (NetXCycle)    (None, 106, 106, 106)     304962    \n",
      "_________________________________________________________________\n",
      "bilinear_interpolate3d_3 (Bi (None, 106, 106, 106)     0         \n",
      "_________________________________________________________________\n",
      "net_x_cycle_3 (NetXCycle)    (None, 106, 106, 106)     304962    \n",
      "_________________________________________________________________\n",
      "bilinear_interpolate3d_4 (Bi (None, 12, 12, 12)        0         \n",
      "_________________________________________________________________\n",
      "net_x_cycle_4 (NetXCycle)    (None, 12, 12, 12)        4068      \n",
      "_________________________________________________________________\n",
      "flatten (Flatten)            (None, 1728)              0         \n",
      "_________________________________________________________________\n",
      "dense (Dense)                (None, 1000)              1729000   \n",
      "_________________________________________________________________\n",
      "activation_6 (Activation)    (None, 1000)              0         \n",
      "=================================================================\n",
      "Total params: 2,957,012\n",
      "Trainable params: 2,954,140\n",
      "Non-trainable params: 2,872\n",
      "_________________________________________________________________\n"
     ]
    }
   ],
   "source": [
    "# Print model summary\n",
    "imagenet_model.summary()"
   ]
  },
  {
   "cell_type": "markdown",
   "metadata": {},
   "source": [
    "### ImageNet"
   ]
  },
  {
   "cell_type": "code",
   "execution_count": 11,
   "metadata": {},
   "outputs": [
    {
     "name": "stdout",
     "output_type": "stream",
     "text": [
      "WARNING:tensorflow:From /tf/MtkResearch/KJHYgfOhas/Submission/image_classification/imagenet/helpers/imagenet_dataset.py:88: The name tf.matching_files is deprecated. Please use tf.io.matching_files instead.\n",
      "\n",
      "WARNING:tensorflow:From /tf/MtkResearch/KJHYgfOhas/Submission/image_classification/imagenet/helpers/imagenet_dataset.py:100: map_and_batch (from tensorflow.python.data.experimental.ops.batching) is deprecated and will be removed in a future version.\n",
      "Instructions for updating:\n",
      "Use `tf.data.Dataset.map(map_func, num_parallel_calls)` followed by `tf.data.Dataset.batch(batch_size, drop_remainder)`. Static tf.data optimizations will take care of using the fused implementation.\n",
      "WARNING:tensorflow:From /usr/local/lib/python3.6/dist-packages/tensorflow_core/python/autograph/converters/directives.py:119: The name tf.FixedLenFeature is deprecated. Please use tf.io.FixedLenFeature instead.\n",
      "\n",
      "WARNING:tensorflow:From /usr/local/lib/python3.6/dist-packages/tensorflow_core/python/autograph/converters/directives.py:119: The name tf.parse_single_example is deprecated. Please use tf.io.parse_single_example instead.\n",
      "\n",
      "WARNING:tensorflow:From /usr/local/lib/python3.6/dist-packages/tensorflow_core/python/autograph/converters/directives.py:119: The name tf.rint is deprecated. Please use tf.math.rint instead.\n",
      "\n",
      "WARNING:tensorflow:From /tf/MtkResearch/KJHYgfOhas/Submission/image_classification/imagenet/helpers/imagenet_image_processing.py:63: to_float (from tensorflow.python.ops.math_ops) is deprecated and will be removed in a future version.\n",
      "Instructions for updating:\n",
      "Use `tf.cast` instead.\n",
      "WARNING:tensorflow:From /tf/MtkResearch/KJHYgfOhas/Submission/image_classification/imagenet/helpers/imagenet_image_processing.py:70: to_int32 (from tensorflow.python.ops.math_ops) is deprecated and will be removed in a future version.\n",
      "Instructions for updating:\n",
      "Use `tf.cast` instead.\n"
     ]
    }
   ],
   "source": [
    "# Initialise the dataset generator for ImageNet\n",
    "imagenet_dataset_path = 'path/to/ImageNet/dataset' # substitute here the path to the imagenet dataset in tensorflow records format\n",
    "ds_valid_imagenet = get_dataset(imagenet_dataset_path, 'validation', BATCH_SIZE, image_size=IMAGENET_IMAGE_SIZE)"
   ]
  },
  {
   "cell_type": "code",
   "execution_count": 12,
   "metadata": {},
   "outputs": [
    {
     "name": "stdout",
     "output_type": "stream",
     "text": [
      "781/781 [==============================] - 297s 381ms/step - loss: 2.2466 - acc: 0.4919 - top_1_accuracy: 0.4919 - top_5_accuracy: 0.7386\n"
     ]
    }
   ],
   "source": [
    "# Evaluating\n",
    "metrics_imagenet = imagenet_model.evaluate(x=ds_valid_imagenet, steps=50000 // BATCH_SIZE)"
   ]
  },
  {
   "cell_type": "markdown",
   "metadata": {},
   "source": [
    "### Stylized ImageNet"
   ]
  },
  {
   "cell_type": "code",
   "execution_count": 13,
   "metadata": {},
   "outputs": [],
   "source": [
    "# Initialise the dataset generator for Stylized-ImageNet\n",
    "stylized_imagenet_dataset_path = 'path/to/Stylized-ImageNet/dataset' # substitute here the path to the imagenet dataset in tensorflow records format\n",
    "ds_valid_stylized = get_dataset(stylized_imagenet_dataset_path, 'validation', BATCH_SIZE, image_size=IMAGENET_IMAGE_SIZE)"
   ]
  },
  {
   "cell_type": "code",
   "execution_count": 14,
   "metadata": {},
   "outputs": [
    {
     "name": "stdout",
     "output_type": "stream",
     "text": [
      "781/781 [==============================] - 300s 384ms/step - loss: 8.6678 - acc: 0.0318 - top_1_accuracy: 0.0318 - top_5_accuracy: 0.0890\n"
     ]
    }
   ],
   "source": [
    "# Evaluating\n",
    "metrics_stylized = imagenet_model.evaluate(x=ds_valid_stylized, steps=50000 // BATCH_SIZE)"
   ]
  },
  {
   "cell_type": "markdown",
   "metadata": {},
   "source": [
    "### Cue Conflict"
   ]
  },
  {
   "cell_type": "code",
   "execution_count": 15,
   "metadata": {},
   "outputs": [],
   "source": [
    "!tar -xvf image_classification/imagenet/data/cue_conflict/cue_conflict_128.tar.xz\n",
    "cue_conflict_dataset_path = 'image_classification/imagenet/data/cue_conflict/cue_conflict_128.pkl'\n",
    "\n",
    "# Load cue conflict\n",
    "with open(cue_conflict_dataset_path,'rb') as f:\n",
    "    cc_X, cc_y_true = pickle.load(f)\n",
    "!rm cue_conflict_128.pkl"
   ]
  },
  {
   "cell_type": "code",
   "execution_count": 16,
   "metadata": {},
   "outputs": [
    {
     "name": "stdout",
     "output_type": "stream",
     "text": [
      "The cue conflict dataset accuracy for the selected model is: 0.1640625\n"
     ]
    }
   ],
   "source": [
    "# Evaluating\n",
    "cc_y_pred = list([predicted_superclass(imagenet_class_probabilities.tolist())[1] for imagenet_class_probabilities in imagenet_model.predict(cc_X)]) \n",
    "cue_conflict_accuracy = accuracy_score(cc_y_true, cc_y_pred)\n",
    "print(\"The cue conflict dataset accuracy for the selected model is:\" , cue_conflict_accuracy)"
   ]
  },
  {
   "cell_type": "markdown",
   "metadata": {},
   "source": [
    "## Receptive fields plots\n",
    "- Load and scale a sample image\n",
    "- Choose layer list and number of nodes to sample\n",
    "- Plot receptive field"
   ]
  },
  {
   "cell_type": "code",
   "execution_count": 17,
   "metadata": {},
   "outputs": [
    {
     "data": {
      "text/plain": [
       "<matplotlib.image.AxesImage at 0x7eff589c1b70>"
      ]
     },
     "execution_count": 17,
     "metadata": {},
     "output_type": "execute_result"
    },
    {
     "data": {
      "image/png": "[encoded data removed]",
      "text/plain": [
       "<Figure size 432x288 with 1 Axes>"
      ]
     },
     "metadata": {
      "needs_background": "light"
     },
     "output_type": "display_data"
    }
   ],
   "source": [
    "# Load and scale a sample image at random\n",
    "image_index = np.random.randint(0, x_test.shape[0]-1)\n",
    "image = x_test[image_index]\n",
    "plt.imshow((image * NORMALIZING_CONST + CENTRALIZING_CONST)/QUANTIZATION_SIZE)"
   ]
  },
  {
   "cell_type": "markdown",
   "metadata": {},
   "source": [
    "Choose two layers to visualize the receptive field.\n",
    "\n",
    "Default is:\n",
    "- After first convolution (layer number = 1)\n",
    "- After last cycle (layer number = 15+(depth/3-1)*16)\n",
    "\n",
    "Change numbers in 'layer_list' to visualize receptive fields in other layers.\n",
    "Add more elements to 'layer_list' to visualize more layers.\n",
    "\n",
    "'no_of_nodes' is the number of neurons for which the receptive field is visualized, in each layer. "
   ]
  },
  {
   "cell_type": "code",
   "execution_count": 18,
   "metadata": {},
   "outputs": [],
   "source": [
    "# Choose layer list and number of nodes to sample\n",
    "no_of_nodes = 3\n",
    "layer_list = [1, int(15+(depth/3-1)*16)]   # Add instructions on which layer is being checked\n",
    "saliency = get_saliency_maps_and_fitted_ellipses(cifar_model, layer_list, no_of_nodes, image)"
   ]
  },
  {
   "cell_type": "code",
   "execution_count": 19,
   "metadata": {},
   "outputs": [
    {
     "data": {
      "image/png": "[encoded data removed]",
      "text/plain": [
       "<Figure size 576x576 with 6 Axes>"
      ]
     },
     "metadata": {
      "needs_background": "light"
     },
     "output_type": "display_data"
    }
   ],
   "source": [
    "# Plot receptive field. If a node is deactivated, a blank image will be displayed.\n",
    "print_images(*saliency)"
   ]
  },
  {
   "cell_type": "markdown",
   "metadata": {},
   "source": [
    "## Receptive fields stats\n",
    "- Choose a layer (default is last cycle), number of nodes and images to sample.\n",
    "- Compute and display receptive field statistics. Deactivated nodes do not participate in the statistics.\n",
    "\n",
    "The output displays the mean and standard deviation of the receptive field size."
   ]
  },
  {
   "cell_type": "code",
   "execution_count": 20,
   "metadata": {},
   "outputs": [],
   "source": [
    "# Set variables controlling layer number, number of images, number of nodes and image indices.\n",
    "layer = int(15+(depth/3-1)*16)\n",
    "no_of_images = 2\n",
    "no_of_nodes = 2\n",
    "image_indices = np.random.randint(0, x_test.shape[0]-1, size=no_of_images)"
   ]
  },
  {
   "cell_type": "code",
   "execution_count": 21,
   "metadata": {
    "scrolled": true
   },
   "outputs": [
    {
     "name": "stdout",
     "output_type": "stream",
     "text": [
      "Mean: 12.692104171753089\n",
      "Std: 0.9971108365644188\n"
     ]
    }
   ],
   "source": [
    "# Compute statistics \n",
    "sqrt_traces = get_saliency_stats(cifar_model, layer, no_of_nodes, x_test[image_indices])\n",
    "print(\"Mean:\", np.mean(sqrt_traces))\n",
    "print(\"Std:\", np.std(sqrt_traces))"
   ]
  },
  {
   "cell_type": "markdown",
   "metadata": {},
   "source": [
    "## Pathfinder\n",
    "\n",
    "The orginal test dataset included 100000 images, following the test-training split of the original pathfinder paper https://arxiv.org/abs/1805.08315. To prevent possible memory problems that the user my encounter while loading the data, here we provide a subset of 10000 random images of the test data employed for the evaluation. \n",
    "\n",
    "- Load dataset\n",
    "- Set model from a directory\n",
    "- (Optional) For large models of kernel size 20, run a script to untar and reconstruct the model.\n",
    "- Load model\n",
    "- Show model summary\n",
    "- Evaluate model\n",
    "\n",
    "'length' refers to the the path lengths of the pathfinder dataset (see paper)"
   ]
  },
  {
   "cell_type": "code",
   "execution_count": 22,
   "metadata": {},
   "outputs": [],
   "source": [
    "model = \"CycleNet\"    # \"CycleNet\" or \"CNN\"\n",
    "length = 9              # 6, 9 or 14\n",
    "kernel = 8              # 4, 8, 12 or 20"
   ]
  },
  {
   "cell_type": "code",
   "execution_count": 23,
   "metadata": {},
   "outputs": [],
   "source": [
    "pathfinder_dataset_path = 'pathfinder/data/pathfinder_path'+str(length)+'_test.h5'\n",
    "x_test, y_test = read_h5_dataset(pathfinder_dataset_path, scale = False)"
   ]
  },
  {
   "cell_type": "code",
   "execution_count": 24,
   "metadata": {},
   "outputs": [],
   "source": [
    "# Specify the model path (either directory or h5 file) - no trailing `/` for kernel size 20, otherwise the .h5 file directly\n",
    "pathfinder_model_path = 'pathfinder/models/'+model+'_models/'+model+'_pathfinder'+str(length)+'_kernelsize'+str(kernel)\n",
    "\n",
    "# Identify if the path given identifies a h5 file or a directory requiring untarring\n",
    "# If untarring required, extract model and update model path to extracted h5 file\n",
    "if kernel==20:\n",
    "    !sh pathfinder/helpers/untar.sh $pathfinder_model_path\n",
    "    a = !ls $pathfinder_model_path\n",
    "    model = [i for i in a if i.find('.h5') != -1][0]\n",
    "    pathfinder_model_path = pathfinder_model_path + '/' + model\n",
    "else:\n",
    "    pathfinder_model_path += '.h5'"
   ]
  },
  {
   "cell_type": "code",
   "execution_count": 25,
   "metadata": {},
   "outputs": [
    {
     "name": "stdout",
     "output_type": "stream",
     "text": [
      "WARNING:tensorflow:From /usr/local/lib/python3.6/dist-packages/tensorflow_core/python/ops/nn_impl.py:183: where (from tensorflow.python.ops.array_ops) is deprecated and will be removed in a future version.\n",
      "Instructions for updating:\n",
      "Use tf.where in 2.0, which has the same broadcast rule as np.where\n"
     ]
    }
   ],
   "source": [
    "# Load model\n",
    "pathfinder_model = load_model(pathfinder_model_path, custom_objects={'BilinearInterpolate3D':BilinearInterpolate3D,\n",
    "                                                                     'NetXCycle': NetXCycle})\n",
    "# Remove extracted model file if required\n",
    "if kernel==20:\n",
    "    !rm $pathfinder_model_path"
   ]
  },
  {
   "cell_type": "code",
   "execution_count": 26,
   "metadata": {
    "scrolled": false
   },
   "outputs": [
    {
     "name": "stdout",
     "output_type": "stream",
     "text": [
      "Model: \"model\"\n",
      "_________________________________________________________________\n",
      "Layer (type)                 Output Shape              Param #   \n",
      "=================================================================\n",
      "input_1 (InputLayer)         [(None, 128, 128, 1)]     0         \n",
      "_________________________________________________________________\n",
      "conv2d (Conv2D)              (None, 128, 128, 128)     8320      \n",
      "_________________________________________________________________\n",
      "batch_normalization_v1 (Batc (None, 128, 128, 128)     512       \n",
      "_________________________________________________________________\n",
      "activation (Activation)      (None, 128, 128, 128)     0         \n",
      "_________________________________________________________________\n",
      "net_x_cycle (NetXCycle)      (None, 128, 128, 128)     3147648   \n",
      "_________________________________________________________________\n",
      "global_max_pooling2d (Global (None, 128)               0         \n",
      "_________________________________________________________________\n",
      "flatten (Flatten)            (None, 128)               0         \n",
      "_________________________________________________________________\n",
      "dense (Dense)                (None, 1)                 129       \n",
      "_________________________________________________________________\n",
      "activation_2 (Activation)    (None, 1)                 0         \n",
      "=================================================================\n",
      "Total params: 3,156,609\n",
      "Trainable params: 3,155,585\n",
      "Non-trainable params: 1,024\n",
      "_________________________________________________________________\n"
     ]
    }
   ],
   "source": [
    "# Print model summary\n",
    "pathfinder_model.summary()"
   ]
  },
  {
   "cell_type": "markdown",
   "metadata": {},
   "source": [
    "Note that the orthogonal convolution cycle is defined expicitly for the CIFAR models. 'model.summary()' shows the sequence of convolution and permutations; for the pathfinder models, instead, the cycles are wrapped using a \"NetXCycle\" layer. The CIFAR models are defined explicitly to allow computing the receptive fields at different stages."
   ]
  },
  {
   "cell_type": "code",
   "execution_count": 27,
   "metadata": {},
   "outputs": [
    {
     "name": "stdout",
     "output_type": "stream",
     "text": [
      "10000/10000 [==============================] - 25s 3ms/sample - loss: 0.2660 - acc: 0.8902\n"
     ]
    }
   ],
   "source": [
    "# Evaluating \n",
    "scores = pathfinder_model.evaluate(x_test, y_test, batch_size=BATCH_SIZE)"
   ]
  }
 ],
 "metadata": {
  "kernelspec": {
   "display_name": "Python 3",
   "language": "python",
   "name": "python3"
  },
  "language_info": {
   "codemirror_mode": {
    "name": "ipython",
    "version": 3
   },
   "file_extension": ".py",
   "mimetype": "text/x-python",
   "name": "python",
   "nbconvert_exporter": "python",
   "pygments_lexer": "ipython3",
   "version": "3.6.8"
  }
 },
 "nbformat": 4,
 "nbformat_minor": 4
}
