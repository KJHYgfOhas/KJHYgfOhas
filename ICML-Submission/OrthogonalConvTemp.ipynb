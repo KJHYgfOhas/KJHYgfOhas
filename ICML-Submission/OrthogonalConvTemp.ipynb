{
 "cells": [
  {
   "cell_type": "code",
   "execution_count": 1,
   "metadata": {
    "scrolled": true
   },
   "outputs": [],
   "source": [
    "%load_ext autoreload\n",
    "%autoreload 2"
   ]
  },
  {
   "cell_type": "markdown",
   "metadata": {},
   "source": [
    "# Orthogonal Convolutions\n",
    "\n",
    "The aim of this notebook is to reproduce the main results of the paper: \"Long range integration in neural networks with orthogonal convolutions.\"\n",
    "It is divided in three main sections:\n",
    "- CIFAR-10\n",
    "- Receptive fields\n",
    "- Pathfinder\n",
    "\n",
    "corresponding to the three main experiments studied in the paper.\n",
    "In each section, the user can load a pre-trained model and evaluate its performance.\n",
    "A few of the models showed in the paper are available in this repository, one for each set of parameters.\n",
    "No training of the models is available here, only evaluation.\n",
    "\n",
    "The code runs on GPU"
   ]
  },
  {
   "cell_type": "code",
   "execution_count": 2,
   "metadata": {},
   "outputs": [],
   "source": [
    "%%capture\n",
    "import tensorflow as tf\n",
    "from tensorflow.keras.models import model_from_json\n",
    "from tensorflow.keras.optimizers import RMSprop\n",
    "from tensorflow.keras.datasets import cifar10\n",
    "from tensorflow.keras.utils import to_categorical\n",
    "from tensorflow.keras import backend as K\n",
    "import numpy as np\n",
    "import h5py\n",
    "from saliency import *\n",
    "import matplotlib.pyplot as plt"
   ]
  },
  {
   "cell_type": "code",
   "execution_count": 3,
   "metadata": {},
   "outputs": [],
   "source": [
    "from tensorflow.keras.models import load_model\n",
    "from utils import *\n",
    "from BilinearInterpolate3D import BilinearInterpolate3D\n",
    "from OrthogonalConv import NetXCycle"
   ]
  },
  {
   "cell_type": "code",
   "execution_count": 4,
   "metadata": {},
   "outputs": [],
   "source": [
    "%%capture\n",
    "gpu_memory_fraction = 0.4\n",
    "gpu_options = tf.compat.v1.GPUOptions(per_process_gpu_memory_fraction=gpu_memory_fraction)\n",
    "tf.compat.v1.Session(config=tf.compat.v1.ConfigProto(gpu_options=gpu_options))"
   ]
  },
  {
   "cell_type": "code",
   "execution_count": 5,
   "metadata": {},
   "outputs": [],
   "source": [
    "# Set higher to speed up evaluation times, or lower to avoid OOM issues.\n",
    "BATCH_SIZE = 16"
   ]
  },
  {
   "cell_type": "markdown",
   "metadata": {},
   "source": [
    "## CIFAR-10\n",
    "\n",
    "- Load model\n",
    "- Compile model\n",
    "- Show model summary\n",
    "- Load dataset\n",
    "- Evaluate model"
   ]
  },
  {
   "cell_type": "code",
   "execution_count": 7,
   "metadata": {},
   "outputs": [],
   "source": [
    "%%capture\n",
    "cifar_model_path = 'section_4.1/models/baseline_models/baseline_cifar10_depth18.h5'\n",
    "cifar_dataset_path = 'section_4.1/data/CIFAR-10_test.h5'\n",
    "cifar_model = load_model(cifar_model_path, custom_objects={'BilinearInterpolate3D':BilinearInterpolate3D})"
   ]
  },
  {
   "cell_type": "code",
   "execution_count": 8,
   "metadata": {},
   "outputs": [
    {
     "name": "stdout",
     "output_type": "stream",
     "text": [
      "Model: \"encoder\"\n",
      "_________________________________________________________________\n",
      "Layer (type)                 Output Shape              Param #   \n",
      "=================================================================\n",
      "encoder_input (InputLayer)   [(None, 32, 32, 3)]       0         \n",
      "_________________________________________________________________\n",
      "conv2d (Conv2D)              (None, 32, 32, 80)        2240      \n",
      "_________________________________________________________________\n",
      "batch_normalization_v1 (Batc (None, 32, 32, 80)        320       \n",
      "_________________________________________________________________\n",
      "activation (Activation)      (None, 32, 32, 80)        0         \n",
      "_________________________________________________________________\n",
      "bilinear_interpolate3d (Bili (None, 75, 75, 75)        0         \n",
      "_________________________________________________________________\n",
      "conv2d_1 (Conv2D)            (None, 75, 75, 75)        50700     \n",
      "_________________________________________________________________\n",
      "batch_normalization_v1_1 (Ba (None, 75, 75, 75)        300       \n",
      "_________________________________________________________________\n",
      "activation_1 (Activation)    (None, 75, 75, 75)        0         \n",
      "_________________________________________________________________\n",
      "dropout (Dropout)            (None, 75, 75, 75)        0         \n",
      "_________________________________________________________________\n",
      "conv2d_2 (Conv2D)            (None, 75, 75, 75)        50700     \n",
      "_________________________________________________________________\n",
      "batch_normalization_v1_2 (Ba (None, 75, 75, 75)        300       \n",
      "_________________________________________________________________\n",
      "activation_2 (Activation)    (None, 75, 75, 75)        0         \n",
      "_________________________________________________________________\n",
      "dropout_1 (Dropout)          (None, 75, 75, 75)        0         \n",
      "_________________________________________________________________\n",
      "conv2d_3 (Conv2D)            (None, 75, 75, 75)        50700     \n",
      "_________________________________________________________________\n",
      "batch_normalization_v1_3 (Ba (None, 75, 75, 75)        300       \n",
      "_________________________________________________________________\n",
      "activation_3 (Activation)    (None, 75, 75, 75)        0         \n",
      "_________________________________________________________________\n",
      "dropout_2 (Dropout)          (None, 75, 75, 75)        0         \n",
      "_________________________________________________________________\n",
      "bilinear_interpolate3d_1 (Bi (None, 60, 60, 60)        0         \n",
      "_________________________________________________________________\n",
      "conv2d_4 (Conv2D)            (None, 60, 60, 60)        32460     \n",
      "_________________________________________________________________\n",
      "batch_normalization_v1_4 (Ba (None, 60, 60, 60)        240       \n",
      "_________________________________________________________________\n",
      "activation_4 (Activation)    (None, 60, 60, 60)        0         \n",
      "_________________________________________________________________\n",
      "dropout_3 (Dropout)          (None, 60, 60, 60)        0         \n",
      "_________________________________________________________________\n",
      "conv2d_5 (Conv2D)            (None, 60, 60, 60)        32460     \n",
      "_________________________________________________________________\n",
      "batch_normalization_v1_5 (Ba (None, 60, 60, 60)        240       \n",
      "_________________________________________________________________\n",
      "activation_5 (Activation)    (None, 60, 60, 60)        0         \n",
      "_________________________________________________________________\n",
      "dropout_4 (Dropout)          (None, 60, 60, 60)        0         \n",
      "_________________________________________________________________\n",
      "conv2d_6 (Conv2D)            (None, 60, 60, 60)        32460     \n",
      "_________________________________________________________________\n",
      "batch_normalization_v1_6 (Ba (None, 60, 60, 60)        240       \n",
      "_________________________________________________________________\n",
      "activation_6 (Activation)    (None, 60, 60, 60)        0         \n",
      "_________________________________________________________________\n",
      "dropout_5 (Dropout)          (None, 60, 60, 60)        0         \n",
      "_________________________________________________________________\n",
      "bilinear_interpolate3d_2 (Bi (None, 45, 45, 45)        0         \n",
      "_________________________________________________________________\n",
      "conv2d_7 (Conv2D)            (None, 45, 45, 45)        18270     \n",
      "_________________________________________________________________\n",
      "batch_normalization_v1_7 (Ba (None, 45, 45, 45)        180       \n",
      "_________________________________________________________________\n",
      "activation_7 (Activation)    (None, 45, 45, 45)        0         \n",
      "_________________________________________________________________\n",
      "dropout_6 (Dropout)          (None, 45, 45, 45)        0         \n",
      "_________________________________________________________________\n",
      "conv2d_8 (Conv2D)            (None, 45, 45, 45)        18270     \n",
      "_________________________________________________________________\n",
      "batch_normalization_v1_8 (Ba (None, 45, 45, 45)        180       \n",
      "_________________________________________________________________\n",
      "activation_8 (Activation)    (None, 45, 45, 45)        0         \n",
      "_________________________________________________________________\n",
      "dropout_7 (Dropout)          (None, 45, 45, 45)        0         \n",
      "_________________________________________________________________\n",
      "conv2d_9 (Conv2D)            (None, 45, 45, 45)        18270     \n",
      "_________________________________________________________________\n",
      "batch_normalization_v1_9 (Ba (None, 45, 45, 45)        180       \n",
      "_________________________________________________________________\n",
      "activation_9 (Activation)    (None, 45, 45, 45)        0         \n",
      "_________________________________________________________________\n",
      "dropout_8 (Dropout)          (None, 45, 45, 45)        0         \n",
      "_________________________________________________________________\n",
      "bilinear_interpolate3d_3 (Bi (None, 30, 30, 30)        0         \n",
      "_________________________________________________________________\n",
      "conv2d_10 (Conv2D)           (None, 30, 30, 30)        8130      \n",
      "_________________________________________________________________\n",
      "batch_normalization_v1_10 (B (None, 30, 30, 30)        120       \n",
      "_________________________________________________________________\n",
      "activation_10 (Activation)   (None, 30, 30, 30)        0         \n",
      "_________________________________________________________________\n",
      "dropout_9 (Dropout)          (None, 30, 30, 30)        0         \n",
      "_________________________________________________________________\n",
      "conv2d_11 (Conv2D)           (None, 30, 30, 30)        8130      \n",
      "_________________________________________________________________\n",
      "batch_normalization_v1_11 (B (None, 30, 30, 30)        120       \n",
      "_________________________________________________________________\n",
      "activation_11 (Activation)   (None, 30, 30, 30)        0         \n",
      "_________________________________________________________________\n",
      "dropout_10 (Dropout)         (None, 30, 30, 30)        0         \n",
      "_________________________________________________________________\n",
      "conv2d_12 (Conv2D)           (None, 30, 30, 30)        8130      \n",
      "_________________________________________________________________\n",
      "batch_normalization_v1_12 (B (None, 30, 30, 30)        120       \n",
      "_________________________________________________________________\n",
      "activation_12 (Activation)   (None, 30, 30, 30)        0         \n",
      "_________________________________________________________________\n",
      "dropout_11 (Dropout)         (None, 30, 30, 30)        0         \n",
      "_________________________________________________________________\n",
      "bilinear_interpolate3d_4 (Bi (None, 15, 15, 15)        0         \n",
      "_________________________________________________________________\n",
      "conv2d_13 (Conv2D)           (None, 15, 15, 15)        2040      \n",
      "_________________________________________________________________\n",
      "batch_normalization_v1_13 (B (None, 15, 15, 15)        60        \n",
      "_________________________________________________________________\n",
      "activation_13 (Activation)   (None, 15, 15, 15)        0         \n",
      "_________________________________________________________________\n",
      "dropout_12 (Dropout)         (None, 15, 15, 15)        0         \n",
      "_________________________________________________________________\n",
      "conv2d_14 (Conv2D)           (None, 15, 15, 15)        2040      \n",
      "_________________________________________________________________\n",
      "batch_normalization_v1_14 (B (None, 15, 15, 15)        60        \n",
      "_________________________________________________________________\n",
      "activation_14 (Activation)   (None, 15, 15, 15)        0         \n",
      "_________________________________________________________________\n",
      "dropout_13 (Dropout)         (None, 15, 15, 15)        0         \n",
      "_________________________________________________________________\n",
      "conv2d_15 (Conv2D)           (None, 15, 15, 15)        2040      \n",
      "_________________________________________________________________\n",
      "batch_normalization_v1_15 (B (None, 15, 15, 15)        60        \n",
      "_________________________________________________________________\n",
      "activation_15 (Activation)   (None, 15, 15, 15)        0         \n",
      "_________________________________________________________________\n",
      "dropout_14 (Dropout)         (None, 15, 15, 15)        0         \n",
      "_________________________________________________________________\n",
      "bilinear_interpolate3d_5 (Bi (None, 5, 5, 5)           0         \n",
      "_________________________________________________________________\n",
      "conv2d_16 (Conv2D)           (None, 5, 5, 5)           230       \n",
      "_________________________________________________________________\n",
      "batch_normalization_v1_16 (B (None, 5, 5, 5)           20        \n",
      "_________________________________________________________________\n",
      "activation_16 (Activation)   (None, 5, 5, 5)           0         \n",
      "_________________________________________________________________\n",
      "dropout_15 (Dropout)         (None, 5, 5, 5)           0         \n",
      "_________________________________________________________________\n",
      "conv2d_17 (Conv2D)           (None, 5, 5, 5)           230       \n",
      "_________________________________________________________________\n",
      "batch_normalization_v1_17 (B (None, 5, 5, 5)           20        \n",
      "_________________________________________________________________\n",
      "activation_17 (Activation)   (None, 5, 5, 5)           0         \n",
      "_________________________________________________________________\n",
      "dropout_16 (Dropout)         (None, 5, 5, 5)           0         \n",
      "_________________________________________________________________\n",
      "conv2d_18 (Conv2D)           (None, 5, 5, 5)           230       \n",
      "_________________________________________________________________\n",
      "batch_normalization_v1_18 (B (None, 5, 5, 5)           20        \n",
      "_________________________________________________________________\n",
      "activation_18 (Activation)   (None, 5, 5, 5)           0         \n",
      "_________________________________________________________________\n",
      "dropout_17 (Dropout)         (None, 5, 5, 5)           0         \n",
      "_________________________________________________________________\n",
      "flatten (Flatten)            (None, 125)               0         \n",
      "_________________________________________________________________\n",
      "output_0 (Dense)             (None, 10)                1260      \n",
      "=================================================================\n",
      "Total params: 342,070\n",
      "Trainable params: 340,530\n",
      "Non-trainable params: 1,540\n",
      "_________________________________________________________________\n"
     ]
    }
   ],
   "source": [
    "# Compiling the model\n",
    "opt_rms = RMSprop(lr=0.001,decay=1e-6)\n",
    "cifar_model.compile(loss='categorical_crossentropy', optimizer=opt_rms, metrics=['accuracy'])\n",
    "\n",
    "cifar_model.summary()"
   ]
  },
  {
   "cell_type": "code",
   "execution_count": 9,
   "metadata": {},
   "outputs": [],
   "source": [
    "# Load dataset\n",
    "x_test, y_test = read_h5_dataset(cifar_dataset_path)"
   ]
  },
  {
   "cell_type": "code",
   "execution_count": 10,
   "metadata": {},
   "outputs": [
    {
     "name": "stdout",
     "output_type": "stream",
     "text": [
      " 1445/10000 [===>..........................] - ETA: 27s - loss: 0.4610 - acc: 0.8830"
     ]
    },
    {
     "ename": "KeyboardInterrupt",
     "evalue": "",
     "output_type": "error",
     "traceback": [
      "\u001b[0;31m---------------------------------------------------------------------------\u001b[0m",
      "\u001b[0;31mKeyboardInterrupt\u001b[0m                         Traceback (most recent call last)",
      "\u001b[0;32m<ipython-input-10-f9aee7cf6861>\u001b[0m in \u001b[0;36m<module>\u001b[0;34m\u001b[0m\n\u001b[1;32m      1\u001b[0m \u001b[0;31m# Evaluating\u001b[0m\u001b[0;34m\u001b[0m\u001b[0;34m\u001b[0m\u001b[0;34m\u001b[0m\u001b[0m\n\u001b[0;32m----> 2\u001b[0;31m \u001b[0mscores\u001b[0m \u001b[0;34m=\u001b[0m \u001b[0mcifar_model\u001b[0m\u001b[0;34m.\u001b[0m\u001b[0mevaluate\u001b[0m\u001b[0;34m(\u001b[0m\u001b[0mx_test\u001b[0m\u001b[0;34m,\u001b[0m \u001b[0my_test\u001b[0m\u001b[0;34m,\u001b[0m \u001b[0mbatch_size\u001b[0m\u001b[0;34m=\u001b[0m\u001b[0mBATCH_SIZE\u001b[0m\u001b[0;34m)\u001b[0m\u001b[0;34m\u001b[0m\u001b[0;34m\u001b[0m\u001b[0m\n\u001b[0m",
      "\u001b[0;32m/usr/local/lib/python3.6/dist-packages/tensorflow/python/keras/engine/training.py\u001b[0m in \u001b[0;36mevaluate\u001b[0;34m(self, x, y, batch_size, verbose, sample_weight, steps, callbacks, max_queue_size, workers, use_multiprocessing)\u001b[0m\n\u001b[1;32m    958\u001b[0m           \u001b[0mverbose\u001b[0m\u001b[0;34m=\u001b[0m\u001b[0mverbose\u001b[0m\u001b[0;34m,\u001b[0m\u001b[0;34m\u001b[0m\u001b[0;34m\u001b[0m\u001b[0m\n\u001b[1;32m    959\u001b[0m           \u001b[0msteps\u001b[0m\u001b[0;34m=\u001b[0m\u001b[0msteps\u001b[0m\u001b[0;34m,\u001b[0m\u001b[0;34m\u001b[0m\u001b[0;34m\u001b[0m\u001b[0m\n\u001b[0;32m--> 960\u001b[0;31m           callbacks=callbacks)\n\u001b[0m\u001b[1;32m    961\u001b[0m \u001b[0;34m\u001b[0m\u001b[0m\n\u001b[1;32m    962\u001b[0m   def predict(self,\n",
      "\u001b[0;32m/usr/local/lib/python3.6/dist-packages/tensorflow/python/keras/engine/training_arrays.py\u001b[0m in \u001b[0;36mmodel_iteration\u001b[0;34m(model, inputs, targets, sample_weights, batch_size, epochs, verbose, callbacks, val_inputs, val_targets, val_sample_weights, shuffle, initial_epoch, steps_per_epoch, validation_steps, validation_freq, mode, validation_in_fit, prepared_feed_values_from_dataset, steps_name, **kwargs)\u001b[0m\n\u001b[1;32m    361\u001b[0m \u001b[0;34m\u001b[0m\u001b[0m\n\u001b[1;32m    362\u001b[0m         \u001b[0;31m# Get outputs.\u001b[0m\u001b[0;34m\u001b[0m\u001b[0;34m\u001b[0m\u001b[0;34m\u001b[0m\u001b[0m\n\u001b[0;32m--> 363\u001b[0;31m         \u001b[0mbatch_outs\u001b[0m \u001b[0;34m=\u001b[0m \u001b[0mf\u001b[0m\u001b[0;34m(\u001b[0m\u001b[0mins_batch\u001b[0m\u001b[0;34m)\u001b[0m\u001b[0;34m\u001b[0m\u001b[0;34m\u001b[0m\u001b[0m\n\u001b[0m\u001b[1;32m    364\u001b[0m         \u001b[0;32mif\u001b[0m \u001b[0;32mnot\u001b[0m \u001b[0misinstance\u001b[0m\u001b[0;34m(\u001b[0m\u001b[0mbatch_outs\u001b[0m\u001b[0;34m,\u001b[0m \u001b[0mlist\u001b[0m\u001b[0;34m)\u001b[0m\u001b[0;34m:\u001b[0m\u001b[0;34m\u001b[0m\u001b[0;34m\u001b[0m\u001b[0m\n\u001b[1;32m    365\u001b[0m           \u001b[0mbatch_outs\u001b[0m \u001b[0;34m=\u001b[0m \u001b[0;34m[\u001b[0m\u001b[0mbatch_outs\u001b[0m\u001b[0;34m]\u001b[0m\u001b[0;34m\u001b[0m\u001b[0;34m\u001b[0m\u001b[0m\n",
      "\u001b[0;32m/usr/local/lib/python3.6/dist-packages/tensorflow/python/keras/backend.py\u001b[0m in \u001b[0;36m__call__\u001b[0;34m(self, inputs)\u001b[0m\n\u001b[1;32m   3290\u001b[0m \u001b[0;34m\u001b[0m\u001b[0m\n\u001b[1;32m   3291\u001b[0m     fetched = self._callable_fn(*array_vals,\n\u001b[0;32m-> 3292\u001b[0;31m                                 run_metadata=self.run_metadata)\n\u001b[0m\u001b[1;32m   3293\u001b[0m     \u001b[0mself\u001b[0m\u001b[0;34m.\u001b[0m\u001b[0m_call_fetch_callbacks\u001b[0m\u001b[0;34m(\u001b[0m\u001b[0mfetched\u001b[0m\u001b[0;34m[\u001b[0m\u001b[0;34m-\u001b[0m\u001b[0mlen\u001b[0m\u001b[0;34m(\u001b[0m\u001b[0mself\u001b[0m\u001b[0;34m.\u001b[0m\u001b[0m_fetches\u001b[0m\u001b[0;34m)\u001b[0m\u001b[0;34m:\u001b[0m\u001b[0;34m]\u001b[0m\u001b[0;34m)\u001b[0m\u001b[0;34m\u001b[0m\u001b[0;34m\u001b[0m\u001b[0m\n\u001b[1;32m   3294\u001b[0m     output_structure = nest.pack_sequence_as(\n",
      "\u001b[0;32m/usr/local/lib/python3.6/dist-packages/tensorflow/python/client/session.py\u001b[0m in \u001b[0;36m__call__\u001b[0;34m(self, *args, **kwargs)\u001b[0m\n\u001b[1;32m   1456\u001b[0m         ret = tf_session.TF_SessionRunCallable(self._session._session,\n\u001b[1;32m   1457\u001b[0m                                                \u001b[0mself\u001b[0m\u001b[0;34m.\u001b[0m\u001b[0m_handle\u001b[0m\u001b[0;34m,\u001b[0m \u001b[0margs\u001b[0m\u001b[0;34m,\u001b[0m\u001b[0;34m\u001b[0m\u001b[0;34m\u001b[0m\u001b[0m\n\u001b[0;32m-> 1458\u001b[0;31m                                                run_metadata_ptr)\n\u001b[0m\u001b[1;32m   1459\u001b[0m         \u001b[0;32mif\u001b[0m \u001b[0mrun_metadata\u001b[0m\u001b[0;34m:\u001b[0m\u001b[0;34m\u001b[0m\u001b[0;34m\u001b[0m\u001b[0m\n\u001b[1;32m   1460\u001b[0m           \u001b[0mproto_data\u001b[0m \u001b[0;34m=\u001b[0m \u001b[0mtf_session\u001b[0m\u001b[0;34m.\u001b[0m\u001b[0mTF_GetBuffer\u001b[0m\u001b[0;34m(\u001b[0m\u001b[0mrun_metadata_ptr\u001b[0m\u001b[0;34m)\u001b[0m\u001b[0;34m\u001b[0m\u001b[0;34m\u001b[0m\u001b[0m\n",
      "\u001b[0;31mKeyboardInterrupt\u001b[0m: "
     ]
    }
   ],
   "source": [
    "# Evaluating \n",
    "scores = cifar_model.evaluate(x_test, y_test, batch_size=BATCH_SIZE)"
   ]
  },
  {
   "cell_type": "markdown",
   "metadata": {},
   "source": [
    "## Receptive fields plots\n",
    "- Load and scale a sample image\n",
    "- Choose layer list and number of nodes to sample\n",
    "- Plot receptive field"
   ]
  },
  {
   "cell_type": "code",
   "execution_count": 16,
   "metadata": {},
   "outputs": [
    {
     "data": {
      "text/plain": [
       "<matplotlib.image.AxesImage at 0x7fe255113940>"
      ]
     },
     "execution_count": 16,
     "metadata": {},
     "output_type": "execute_result"
    },
    {
     "data": {
      "image/png": "[encoded data removed]",
      "text/plain": [
       "<Figure size 432x288 with 1 Axes>"
      ]
     },
     "metadata": {
      "needs_background": "light"
     },
     "output_type": "display_data"
    }
   ],
   "source": [
    "image_index = np.random.randint(0, x_test.shape[0]-1)\n",
    "image = x_test[image_index]\n",
    "plt.imshow((image * NORMALIZING_CONST + CENTRALIZING_CONST)/QUANTIZATION_SIZE)\n"
   ]
  },
  {
   "cell_type": "code",
   "execution_count": 17,
   "metadata": {},
   "outputs": [
    {
     "name": "stdout",
     "output_type": "stream",
     "text": [
      "number of constant pics: 0\n"
     ]
    }
   ],
   "source": [
    "no_of_nodes = 3\n",
    "layer_list = [2,70]\n",
    "saliency = get_saliency_maps_and_fitted_ellipses(cifar_model, layer_list, no_of_nodes, image)"
   ]
  },
  {
   "cell_type": "code",
   "execution_count": 18,
   "metadata": {},
   "outputs": [
    {
     "data": {
      "image/png": "[encoded data removed]",
      "text/plain": [
       "<Figure size 576x576 with 6 Axes>"
      ]
     },
     "metadata": {
      "needs_background": "light"
     },
     "output_type": "display_data"
    }
   ],
   "source": [
    "# If a node is deactivated, a blank image will be displayed.\n",
    "print_images(*saliency)"
   ]
  },
  {
   "cell_type": "markdown",
   "metadata": {},
   "source": [
    "## Receptive fields stats\n",
    "- Choose a layer and number of nodes and images to sample.\n",
    "- Compute and display receptive field statistics. Deactivated nodes do not participate in the statistics."
   ]
  },
  {
   "cell_type": "code",
   "execution_count": 21,
   "metadata": {},
   "outputs": [],
   "source": [
    "layer = 42\n",
    "no_of_images = 2\n",
    "no_of_nodes = 2\n",
    "image_indices = np.random.randint(0, x_test.shape[0]-1, size = no_of_images)"
   ]
  },
  {
   "cell_type": "code",
   "execution_count": 22,
   "metadata": {
    "scrolled": true
   },
   "outputs": [
    {
     "name": "stdout",
     "output_type": "stream",
     "text": [
      "2.6991664685058634\n",
      "0.11600177525052961\n"
     ]
    }
   ],
   "source": [
    "sqrt_traces = get_saliency_stats(cifar_model, layer, no_of_nodes, x_test[image_indices])\n",
    "print(np.mean(sqrt_traces))\n",
    "print(np.std(sqrt_traces))"
   ]
  },
  {
   "cell_type": "markdown",
   "metadata": {},
   "source": [
    "## Pathfinder\n",
    "\n",
    "- Load model from a directory\n",
    "- (Optional) For large models, run a script to untar and recosntruct the model.\n",
    "- Compile model\n",
    "- Show model summary\n",
    "- Load dataset\n",
    "- Evaluate model"
   ]
  },
  {
   "cell_type": "code",
   "execution_count": 7,
   "metadata": {},
   "outputs": [],
   "source": [
    "# Specify the model directory path - no trailing `/` for kernel size 20, otherwise the .h5 file directly\n",
    "pathfinder_model_path = 'section_4.5/models/orthogonal_models/orthogonal_pathfinder9_kernelsize20'\n",
    "untar = not bool(pathfinder_model_path.find('.h5')+1)"
   ]
  },
  {
   "cell_type": "code",
   "execution_count": 8,
   "metadata": {},
   "outputs": [
    {
     "name": "stdout",
     "output_type": "stream",
     "text": [
      "orthogonal_pathfinder9_kernelsize20.h5\r\n"
     ]
    }
   ],
   "source": [
    "if untar:\n",
    "    !sh untar.sh $pathfinder_model_path\n"
   ]
  },
  {
   "cell_type": "code",
   "execution_count": 9,
   "metadata": {},
   "outputs": [],
   "source": [
    "if untar:\n",
    "    a = !ls $pathfinder_model_path"
   ]
  },
  {
   "cell_type": "code",
   "execution_count": 10,
   "metadata": {},
   "outputs": [],
   "source": [
    "if untar:\n",
    "    model = [i for i in a if i.find('.h5') != -1][0]"
   ]
  },
  {
   "cell_type": "code",
   "execution_count": 12,
   "metadata": {},
   "outputs": [],
   "source": [
    "%%capture\n",
    "if untar:\n",
    "    pathfinder_model_path = pathfinder_model_path + '/' + model\n",
    "\n",
    "pathfinder_model = load_model(pathfinder_model_path, custom_objects={'BilinearInterpolate3D':BilinearInterpolate3D,\n",
    "                                                                        'NetXCycle': NetXCycle})\n",
    "if untar:\n",
    "    !rm $pathfinder_model_path"
   ]
  },
  {
   "cell_type": "code",
   "execution_count": null,
   "metadata": {},
   "outputs": [],
   "source": []
  },
  {
   "cell_type": "code",
   "execution_count": 13,
   "metadata": {
    "scrolled": false
   },
   "outputs": [
    {
     "name": "stdout",
     "output_type": "stream",
     "text": [
      "Model: \"model\"\n",
      "_________________________________________________________________\n",
      "Layer (type)                 Output Shape              Param #   \n",
      "=================================================================\n",
      "input_1 (InputLayer)         [(None, 128, 128, 1)]     0         \n",
      "_________________________________________________________________\n",
      "conv2d (Conv2D)              (None, 128, 128, 128)     51328     \n",
      "_________________________________________________________________\n",
      "batch_normalization_v1 (Batc (None, 128, 128, 128)     512       \n",
      "_________________________________________________________________\n",
      "activation (Activation)      (None, 128, 128, 128)     0         \n",
      "_________________________________________________________________\n",
      "net_x_cycle (NetXCycle)      (None, 128, 128, 128)     19662720  \n",
      "_________________________________________________________________\n",
      "global_max_pooling2d (Global (None, 128)               0         \n",
      "_________________________________________________________________\n",
      "flatten (Flatten)            (None, 128)               0         \n",
      "_________________________________________________________________\n",
      "dense (Dense)                (None, 1)                 129       \n",
      "_________________________________________________________________\n",
      "activation_2 (Activation)    (None, 1)                 0         \n",
      "=================================================================\n",
      "Total params: 19,714,689\n",
      "Trainable params: 19,713,665\n",
      "Non-trainable params: 1,024\n",
      "_________________________________________________________________\n"
     ]
    }
   ],
   "source": [
    "pathfinder_model.summary()"
   ]
  },
  {
   "cell_type": "code",
   "execution_count": 14,
   "metadata": {},
   "outputs": [],
   "source": [
    "pathfinder_dataset_path = 'section_4.5/data/pathfinder_path9_test.h5'"
   ]
  },
  {
   "cell_type": "code",
   "execution_count": 15,
   "metadata": {},
   "outputs": [],
   "source": [
    "# Load dataset\n",
    "x_test, y_test = read_h5_dataset(pathfinder_dataset_path, scale = False)"
   ]
  },
  {
   "cell_type": "code",
   "execution_count": null,
   "metadata": {},
   "outputs": [
    {
     "name": "stdout",
     "output_type": "stream",
     "text": [
      " 5872/10000 [================>.............] - ETA: 27s - loss: 0.4164 - acc: 0.8006"
     ]
    }
   ],
   "source": [
    "# Evaluating \n",
    "scores = pathfinder_model.evaluate(x_test, y_test, batch_size=BATCH_SIZE)"
   ]
  },
  {
   "cell_type": "code",
   "execution_count": null,
   "metadata": {},
   "outputs": [],
   "source": []
  }
 ],
 "metadata": {
  "kernelspec": {
   "display_name": "Python 3",
   "language": "python",
   "name": "python3"
  },
  "language_info": {
   "codemirror_mode": {
    "name": "ipython",
    "version": 3
   },
   "file_extension": ".py",
   "mimetype": "text/x-python",
   "name": "python",
   "nbconvert_exporter": "python",
   "pygments_lexer": "ipython3",
   "version": "3.6.9"
  }
 },
 "nbformat": 4,
 "nbformat_minor": 4
}
