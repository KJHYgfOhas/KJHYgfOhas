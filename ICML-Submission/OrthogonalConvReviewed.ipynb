{
 "cells": [
  {
   "cell_type": "markdown",
   "metadata": {},
   "source": [
    "# Orthogonal Convolutions\n",
    "\n",
    "The aim of this notebook is to present the main results of the paper: \"Long range integration in neural networks with orthogonal convolutions\".\n",
    "\n",
    "It is divided in three main sections corresponding to the three main experiments studied in the paper.\n",
    "- CIFAR-10\n",
    "- Receptive fields\n",
    "- Pathfinder\n",
    "\n",
    "In each section, the user can load a pre-trained model and evaluate its performance.\n",
    "A few of the models showed in the paper are available in this repository, one for each set of parameters.\n",
    "This notebook is intended be used for evaluation only, not for training. \n",
    "\n",
    "Note that the code runs on GPU.\n",
    "\n",
    "When loading a model, the option model=\"baseline\" refers to a standard convolutional network, while model=\"orthogonal\" corresponds to the new proposed architecture. Other parameters corresponds to those explained in the paper: 'depth' is the number of layers, 'kernel' is the kernel size."
   ]
  },
  {
   "cell_type": "markdown",
   "metadata": {},
   "source": [
    "### Imports and setting up the environement"
   ]
  },
  {
   "cell_type": "code",
   "execution_count": 1,
   "metadata": {},
   "outputs": [
    {
     "name": "stderr",
     "output_type": "stream",
     "text": [
      "WARNING: Logging before flag parsing goes to stderr.\n",
      "W0218 14:29:44.440946 140338213074752 deprecation_wrapper.py:119] From /tf/notebooks/sumbission-ICML/KJHYgfOhas/ICML-Submission/OrthogonalConv.py:4: The name tf.keras.initializers.RandomUniform is deprecated. Please use tf.compat.v1.keras.initializers.RandomUniform instead.\n",
      "\n"
     ]
    }
   ],
   "source": [
    "import tensorflow as tf\n",
    "from tensorflow.keras.models import load_model\n",
    "import matplotlib.pyplot as plt\n",
    "import numpy as np\n",
    "from BilinearInterpolate3D import BilinearInterpolate3D\n",
    "from OrthogonalConv import NetXCycle\n",
    "from utils import *\n",
    "from saliency import *"
   ]
  },
  {
   "cell_type": "code",
   "execution_count": 2,
   "metadata": {},
   "outputs": [],
   "source": [
    "# Setting a GPU memory fraction used (if desired) to limit resource usage\n",
    "# gpu_memory_fraction = 0.4\n",
    "# gpu_options = tf.compat.v1.GPUOptions(per_process_gpu_memory_fraction=gpu_memory_fraction)\n",
    "# tf.compat.v1.Session(config=tf.compat.v1.ConfigProto(gpu_options=gpu_options))"
   ]
  },
  {
   "cell_type": "code",
   "execution_count": 3,
   "metadata": {},
   "outputs": [],
   "source": [
    "# Set larger batch size to speed up evaluation times, or smaller to avoid OOM issues.\n",
    "BATCH_SIZE = 64"
   ]
  },
  {
   "cell_type": "markdown",
   "metadata": {},
   "source": [
    "## CIFAR-10\n",
    "\n",
    "- Load dataset\n",
    "- Load model\n",
    "- Show model summary\n",
    "- Evaluate model"
   ]
  },
  {
   "cell_type": "code",
   "execution_count": 4,
   "metadata": {},
   "outputs": [],
   "source": [
    "# Set dataset path and load dataset\n",
    "cifar_dataset_path = 'section_4.1/data/CIFAR-10_test.h5'\n",
    "x_test, y_test = read_h5_dataset(cifar_dataset_path)"
   ]
  },
  {
   "cell_type": "code",
   "execution_count": 5,
   "metadata": {},
   "outputs": [
    {
     "name": "stderr",
     "output_type": "stream",
     "text": [
      "W0218 14:29:45.048411 140338213074752 deprecation.py:506] From /usr/local/lib/python3.6/dist-packages/tensorflow/python/ops/init_ops.py:97: calling VarianceScaling.__init__ (from tensorflow.python.ops.init_ops) with dtype is deprecated and will be removed in a future version.\n",
      "Instructions for updating:\n",
      "Call initializer instance with the dtype argument instead of passing it to the constructor\n",
      "W0218 14:29:45.048885 140338213074752 deprecation.py:506] From /usr/local/lib/python3.6/dist-packages/tensorflow/python/ops/init_ops.py:97: calling Zeros.__init__ (from tensorflow.python.ops.init_ops) with dtype is deprecated and will be removed in a future version.\n",
      "Instructions for updating:\n",
      "Call initializer instance with the dtype argument instead of passing it to the constructor\n",
      "W0218 14:29:45.051937 140338213074752 deprecation.py:506] From /usr/local/lib/python3.6/dist-packages/tensorflow/python/ops/init_ops.py:97: calling Ones.__init__ (from tensorflow.python.ops.init_ops) with dtype is deprecated and will be removed in a future version.\n",
      "Instructions for updating:\n",
      "Call initializer instance with the dtype argument instead of passing it to the constructor\n",
      "W0218 14:29:45.086103 140338213074752 deprecation.py:506] From /usr/local/lib/python3.6/dist-packages/tensorflow/python/ops/init_ops.py:97: calling GlorotUniform.__init__ (from tensorflow.python.ops.init_ops) with dtype is deprecated and will be removed in a future version.\n",
      "Instructions for updating:\n",
      "Call initializer instance with the dtype argument instead of passing it to the constructor\n",
      "W0218 14:29:45.219409 140338213074752 deprecation_wrapper.py:119] From /tf/notebooks/sumbission-ICML/KJHYgfOhas/ICML-Submission/BilinearInterpolate3D.py:20: The name tf.image.resize_bilinear is deprecated. Please use tf.compat.v1.image.resize_bilinear instead.\n",
      "\n"
     ]
    }
   ],
   "source": [
    "# Load desired model\n",
    "model = \"orthogonal\"  # \"orthogonal\" or \"baseline\"\n",
    "depth = 18          # 3, 6, 9, 12, 15 or 18\n",
    "cifar_model_path = 'section_4.1/models/'+model+'_models/'+model+'_cifar10_depth'+str(depth)+'.h5'\n",
    "cifar_model = load_model(cifar_model_path, custom_objects={'BilinearInterpolate3D': BilinearInterpolate3D})"
   ]
  },
  {
   "cell_type": "code",
   "execution_count": 6,
   "metadata": {
    "scrolled": true
   },
   "outputs": [
    {
     "name": "stdout",
     "output_type": "stream",
     "text": [
      "Model: \"encoder\"\n",
      "_________________________________________________________________\n",
      "Layer (type)                 Output Shape              Param #   \n",
      "=================================================================\n",
      "encoder_input (InputLayer)   [(None, 32, 32, 3)]       0         \n",
      "_________________________________________________________________\n",
      "conv2d (Conv2D)              (None, 32, 32, 80)        2240      \n",
      "_________________________________________________________________\n",
      "batch_normalization_v1 (Batc (None, 32, 32, 80)        320       \n",
      "_________________________________________________________________\n",
      "activation (Activation)      (None, 32, 32, 80)        0         \n",
      "_________________________________________________________________\n",
      "bilinear_interpolate3d (Bili (None, 75, 75, 75)        0         \n",
      "_________________________________________________________________\n",
      "conv2d_1 (Conv2D)            (None, 75, 75, 75)        50700     \n",
      "_________________________________________________________________\n",
      "batch_normalization_v1_1 (Ba (None, 75, 75, 75)        300       \n",
      "_________________________________________________________________\n",
      "activation_1 (Activation)    (None, 75, 75, 75)        0         \n",
      "_________________________________________________________________\n",
      "permute_2 (Permute)          (None, 75, 75, 75)        0         \n",
      "_________________________________________________________________\n",
      "dropout (Dropout)            (None, 75, 75, 75)        0         \n",
      "_________________________________________________________________\n",
      "conv2d_2 (Conv2D)            (None, 75, 75, 75)        50700     \n",
      "_________________________________________________________________\n",
      "batch_normalization_v1_2 (Ba (None, 75, 75, 75)        300       \n",
      "_________________________________________________________________\n",
      "activation_2 (Activation)    (None, 75, 75, 75)        0         \n",
      "_________________________________________________________________\n",
      "permute_3 (Permute)          (None, 75, 75, 75)        0         \n",
      "_________________________________________________________________\n",
      "dropout_1 (Dropout)          (None, 75, 75, 75)        0         \n",
      "_________________________________________________________________\n",
      "conv2d_3 (Conv2D)            (None, 75, 75, 75)        50700     \n",
      "_________________________________________________________________\n",
      "batch_normalization_v1_3 (Ba (None, 75, 75, 75)        300       \n",
      "_________________________________________________________________\n",
      "activation_3 (Activation)    (None, 75, 75, 75)        0         \n",
      "_________________________________________________________________\n",
      "permute_4 (Permute)          (None, 75, 75, 75)        0         \n",
      "_________________________________________________________________\n",
      "dropout_2 (Dropout)          (None, 75, 75, 75)        0         \n",
      "_________________________________________________________________\n",
      "bilinear_interpolate3d_1 (Bi (None, 60, 60, 60)        0         \n",
      "_________________________________________________________________\n",
      "conv2d_4 (Conv2D)            (None, 60, 60, 60)        32460     \n",
      "_________________________________________________________________\n",
      "batch_normalization_v1_4 (Ba (None, 60, 60, 60)        240       \n",
      "_________________________________________________________________\n",
      "activation_4 (Activation)    (None, 60, 60, 60)        0         \n",
      "_________________________________________________________________\n",
      "permute_7 (Permute)          (None, 60, 60, 60)        0         \n",
      "_________________________________________________________________\n",
      "dropout_3 (Dropout)          (None, 60, 60, 60)        0         \n",
      "_________________________________________________________________\n",
      "conv2d_5 (Conv2D)            (None, 60, 60, 60)        32460     \n",
      "_________________________________________________________________\n",
      "batch_normalization_v1_5 (Ba (None, 60, 60, 60)        240       \n",
      "_________________________________________________________________\n",
      "activation_5 (Activation)    (None, 60, 60, 60)        0         \n",
      "_________________________________________________________________\n",
      "permute_8 (Permute)          (None, 60, 60, 60)        0         \n",
      "_________________________________________________________________\n",
      "dropout_4 (Dropout)          (None, 60, 60, 60)        0         \n",
      "_________________________________________________________________\n",
      "conv2d_6 (Conv2D)            (None, 60, 60, 60)        32460     \n",
      "_________________________________________________________________\n",
      "batch_normalization_v1_6 (Ba (None, 60, 60, 60)        240       \n",
      "_________________________________________________________________\n",
      "activation_6 (Activation)    (None, 60, 60, 60)        0         \n",
      "_________________________________________________________________\n",
      "permute_9 (Permute)          (None, 60, 60, 60)        0         \n",
      "_________________________________________________________________\n",
      "dropout_5 (Dropout)          (None, 60, 60, 60)        0         \n",
      "_________________________________________________________________\n",
      "bilinear_interpolate3d_2 (Bi (None, 45, 45, 45)        0         \n",
      "_________________________________________________________________\n",
      "conv2d_7 (Conv2D)            (None, 45, 45, 45)        18270     \n",
      "_________________________________________________________________\n",
      "batch_normalization_v1_7 (Ba (None, 45, 45, 45)        180       \n",
      "_________________________________________________________________\n",
      "activation_7 (Activation)    (None, 45, 45, 45)        0         \n",
      "_________________________________________________________________\n",
      "permute_12 (Permute)         (None, 45, 45, 45)        0         \n",
      "_________________________________________________________________\n",
      "dropout_6 (Dropout)          (None, 45, 45, 45)        0         \n",
      "_________________________________________________________________\n",
      "conv2d_8 (Conv2D)            (None, 45, 45, 45)        18270     \n",
      "_________________________________________________________________\n",
      "batch_normalization_v1_8 (Ba (None, 45, 45, 45)        180       \n",
      "_________________________________________________________________\n",
      "activation_8 (Activation)    (None, 45, 45, 45)        0         \n",
      "_________________________________________________________________\n",
      "permute_13 (Permute)         (None, 45, 45, 45)        0         \n",
      "_________________________________________________________________\n",
      "dropout_7 (Dropout)          (None, 45, 45, 45)        0         \n",
      "_________________________________________________________________\n",
      "conv2d_9 (Conv2D)            (None, 45, 45, 45)        18270     \n",
      "_________________________________________________________________\n",
      "batch_normalization_v1_9 (Ba (None, 45, 45, 45)        180       \n",
      "_________________________________________________________________\n",
      "activation_9 (Activation)    (None, 45, 45, 45)        0         \n",
      "_________________________________________________________________\n",
      "permute_14 (Permute)         (None, 45, 45, 45)        0         \n",
      "_________________________________________________________________\n",
      "dropout_8 (Dropout)          (None, 45, 45, 45)        0         \n",
      "_________________________________________________________________\n",
      "bilinear_interpolate3d_3 (Bi (None, 30, 30, 30)        0         \n",
      "_________________________________________________________________\n",
      "conv2d_10 (Conv2D)           (None, 30, 30, 30)        8130      \n",
      "_________________________________________________________________\n",
      "batch_normalization_v1_10 (B (None, 30, 30, 30)        120       \n",
      "_________________________________________________________________\n",
      "activation_10 (Activation)   (None, 30, 30, 30)        0         \n",
      "_________________________________________________________________\n",
      "permute_17 (Permute)         (None, 30, 30, 30)        0         \n",
      "_________________________________________________________________\n",
      "dropout_9 (Dropout)          (None, 30, 30, 30)        0         \n",
      "_________________________________________________________________\n",
      "conv2d_11 (Conv2D)           (None, 30, 30, 30)        8130      \n",
      "_________________________________________________________________\n",
      "batch_normalization_v1_11 (B (None, 30, 30, 30)        120       \n",
      "_________________________________________________________________\n",
      "activation_11 (Activation)   (None, 30, 30, 30)        0         \n",
      "_________________________________________________________________\n",
      "permute_18 (Permute)         (None, 30, 30, 30)        0         \n",
      "_________________________________________________________________\n",
      "dropout_10 (Dropout)         (None, 30, 30, 30)        0         \n",
      "_________________________________________________________________\n",
      "conv2d_12 (Conv2D)           (None, 30, 30, 30)        8130      \n",
      "_________________________________________________________________\n",
      "batch_normalization_v1_12 (B (None, 30, 30, 30)        120       \n",
      "_________________________________________________________________\n",
      "activation_12 (Activation)   (None, 30, 30, 30)        0         \n",
      "_________________________________________________________________\n",
      "permute_19 (Permute)         (None, 30, 30, 30)        0         \n",
      "_________________________________________________________________\n",
      "dropout_11 (Dropout)         (None, 30, 30, 30)        0         \n",
      "_________________________________________________________________\n",
      "bilinear_interpolate3d_4 (Bi (None, 15, 15, 15)        0         \n",
      "_________________________________________________________________\n",
      "conv2d_13 (Conv2D)           (None, 15, 15, 15)        2040      \n",
      "_________________________________________________________________\n",
      "batch_normalization_v1_13 (B (None, 15, 15, 15)        60        \n",
      "_________________________________________________________________\n",
      "activation_13 (Activation)   (None, 15, 15, 15)        0         \n",
      "_________________________________________________________________\n",
      "permute_22 (Permute)         (None, 15, 15, 15)        0         \n",
      "_________________________________________________________________\n",
      "dropout_12 (Dropout)         (None, 15, 15, 15)        0         \n",
      "_________________________________________________________________\n",
      "conv2d_14 (Conv2D)           (None, 15, 15, 15)        2040      \n",
      "_________________________________________________________________\n",
      "batch_normalization_v1_14 (B (None, 15, 15, 15)        60        \n",
      "_________________________________________________________________\n",
      "activation_14 (Activation)   (None, 15, 15, 15)        0         \n",
      "_________________________________________________________________\n",
      "permute_23 (Permute)         (None, 15, 15, 15)        0         \n",
      "_________________________________________________________________\n",
      "dropout_13 (Dropout)         (None, 15, 15, 15)        0         \n",
      "_________________________________________________________________\n",
      "conv2d_15 (Conv2D)           (None, 15, 15, 15)        2040      \n",
      "_________________________________________________________________\n",
      "batch_normalization_v1_15 (B (None, 15, 15, 15)        60        \n",
      "_________________________________________________________________\n",
      "activation_15 (Activation)   (None, 15, 15, 15)        0         \n",
      "_________________________________________________________________\n",
      "permute_24 (Permute)         (None, 15, 15, 15)        0         \n",
      "_________________________________________________________________\n",
      "dropout_14 (Dropout)         (None, 15, 15, 15)        0         \n",
      "_________________________________________________________________\n",
      "bilinear_interpolate3d_5 (Bi (None, 5, 5, 5)           0         \n",
      "_________________________________________________________________\n",
      "conv2d_16 (Conv2D)           (None, 5, 5, 5)           230       \n",
      "_________________________________________________________________\n",
      "batch_normalization_v1_16 (B (None, 5, 5, 5)           20        \n",
      "_________________________________________________________________\n",
      "activation_16 (Activation)   (None, 5, 5, 5)           0         \n",
      "_________________________________________________________________\n",
      "permute_27 (Permute)         (None, 5, 5, 5)           0         \n",
      "_________________________________________________________________\n",
      "dropout_15 (Dropout)         (None, 5, 5, 5)           0         \n",
      "_________________________________________________________________\n",
      "conv2d_17 (Conv2D)           (None, 5, 5, 5)           230       \n",
      "_________________________________________________________________\n",
      "batch_normalization_v1_17 (B (None, 5, 5, 5)           20        \n",
      "_________________________________________________________________\n",
      "activation_17 (Activation)   (None, 5, 5, 5)           0         \n",
      "_________________________________________________________________\n",
      "permute_28 (Permute)         (None, 5, 5, 5)           0         \n",
      "_________________________________________________________________\n",
      "dropout_16 (Dropout)         (None, 5, 5, 5)           0         \n",
      "_________________________________________________________________\n",
      "conv2d_18 (Conv2D)           (None, 5, 5, 5)           230       \n",
      "_________________________________________________________________\n",
      "batch_normalization_v1_18 (B (None, 5, 5, 5)           20        \n",
      "_________________________________________________________________\n",
      "activation_18 (Activation)   (None, 5, 5, 5)           0         \n",
      "_________________________________________________________________\n",
      "permute_29 (Permute)         (None, 5, 5, 5)           0         \n",
      "_________________________________________________________________\n",
      "dropout_17 (Dropout)         (None, 5, 5, 5)           0         \n",
      "_________________________________________________________________\n",
      "flatten (Flatten)            (None, 125)               0         \n",
      "_________________________________________________________________\n",
      "output_0 (Dense)             (None, 10)                1260      \n",
      "=================================================================\n",
      "Total params: 342,070\n",
      "Trainable params: 340,530\n",
      "Non-trainable params: 1,540\n",
      "_________________________________________________________________\n"
     ]
    }
   ],
   "source": [
    "# Print model summary\n",
    "cifar_model.summary()"
   ]
  },
  {
   "cell_type": "code",
   "execution_count": 7,
   "metadata": {},
   "outputs": [
    {
     "name": "stdout",
     "output_type": "stream",
     "text": [
      "10000/10000 [==============================] - 9s 895us/sample - loss: 0.4911 - acc: 0.8815\n"
     ]
    }
   ],
   "source": [
    "# Evaluating \n",
    "scores = cifar_model.evaluate(x_test, y_test, batch_size=BATCH_SIZE)"
   ]
  },
  {
   "cell_type": "markdown",
   "metadata": {},
   "source": [
    "## Receptive fields plots\n",
    "- Load and scale a sample image\n",
    "- Choose layer list and number of nodes to sample\n",
    "- Plot receptive field"
   ]
  },
  {
   "cell_type": "code",
   "execution_count": 8,
   "metadata": {},
   "outputs": [
    {
     "data": {
      "text/plain": [
       "<matplotlib.image.AxesImage at 0x7fa28327f5c0>"
      ]
     },
     "execution_count": 8,
     "metadata": {},
     "output_type": "execute_result"
    },
    {
     "data": {
      "image/png": "[encoded data removed]",
      "text/plain": [
       "<Figure size 432x288 with 1 Axes>"
      ]
     },
     "metadata": {
      "needs_background": "light"
     },
     "output_type": "display_data"
    }
   ],
   "source": [
    "# Load and scale a sample image at random\n",
    "image_index = np.random.randint(0, x_test.shape[0]-1)\n",
    "image = x_test[image_index]\n",
    "plt.imshow((image * NORMALIZING_CONST + CENTRALIZING_CONST)/QUANTIZATION_SIZE)"
   ]
  },
  {
   "cell_type": "markdown",
   "metadata": {},
   "source": [
    "Choose two layers to visualize the receptive field.\n",
    "\n",
    "Default is:\n",
    "- After first convolution (layer number = 1)\n",
    "- After last cycle (layer number = 15+(depth/3-1)*16)\n",
    "\n",
    "Change numbers in 'layer_list' to visualize receptive fields in other layers.\n",
    "Add more elements to 'layer_list' to visualize more layers.\n",
    "\n",
    "'no_of_nodes' is the number of neurons for which the receptive field is visualized, in each layer. "
   ]
  },
  {
   "cell_type": "code",
   "execution_count": 9,
   "metadata": {},
   "outputs": [],
   "source": [
    "# Choose layer list and number of nodes to sample\n",
    "no_of_nodes = 3\n",
    "layer_list = [1, int(15+(depth/3-1)*16)]   # Add instructions on which layer is being checked\n",
    "saliency = get_saliency_maps_and_fitted_ellipses(cifar_model, layer_list, no_of_nodes, image)"
   ]
  },
  {
   "cell_type": "code",
   "execution_count": 10,
   "metadata": {},
   "outputs": [
    {
     "data": {
      "image/png": "[encoded data removed]",
      "text/plain": [
       "<Figure size 576x576 with 6 Axes>"
      ]
     },
     "metadata": {
      "needs_background": "light"
     },
     "output_type": "display_data"
    }
   ],
   "source": [
    "# Plot receptive field. If a node is deactivated, a blank image will be displayed.\n",
    "print_images(*saliency)"
   ]
  },
  {
   "cell_type": "markdown",
   "metadata": {},
   "source": [
    "## Receptive fields stats\n",
    "- Choose a layer (default is last cycle), number of nodes and images to sample.\n",
    "- Compute and display receptive field statistics. Deactivated nodes do not participate in the statistics.\n",
    "\n",
    "The output displays the mean and standard deviation of the receptive field size."
   ]
  },
  {
   "cell_type": "code",
   "execution_count": 11,
   "metadata": {},
   "outputs": [],
   "source": [
    "# Set variables controlling layer number, number of images, number of nodes and image indices.\n",
    "layer = int(15+(depth/3-1)*16)\n",
    "no_of_images = 2\n",
    "no_of_nodes = 2\n",
    "image_indices = np.random.randint(0, x_test.shape[0]-1, size=no_of_images)"
   ]
  },
  {
   "cell_type": "code",
   "execution_count": 12,
   "metadata": {
    "scrolled": true
   },
   "outputs": [
    {
     "name": "stdout",
     "output_type": "stream",
     "text": [
      "Mean: 11.531519338421836\n",
      "Std: 0.30995449325088803\n"
     ]
    }
   ],
   "source": [
    "# Compute statistics \n",
    "sqrt_traces = get_saliency_stats(cifar_model, layer, no_of_nodes, x_test[image_indices])\n",
    "print(\"Mean:\", np.mean(sqrt_traces))\n",
    "print(\"Std:\", np.std(sqrt_traces))"
   ]
  },
  {
   "cell_type": "markdown",
   "metadata": {},
   "source": [
    "## Pathfinder\n",
    "\n",
    "The orginal test dataset included 100000 images, following the test-training split of the original pathfinder paper https://arxiv.org/abs/1805.08315. To prevent possible memory problems that the user my encounter while loading the data, here we provide a subset of 10000 random images of the test data employed for the evaluation. \n",
    "\n",
    "- Load dataset\n",
    "- Load model from a directory\n",
    "- (Optional) For large models of kernel size 20, run a script to untar and reconstruct the model.\n",
    "- Load model\n",
    "- Show model summary\n",
    "- Evaluate model\n",
    "\n",
    "'length' refers to the the path lengths of the pathfinder dataset (see paper)"
   ]
  },
  {
   "cell_type": "code",
   "execution_count": 13,
   "metadata": {},
   "outputs": [],
   "source": [
    "model = \"orthogonal\"    # \"orthogonal\" or \"baseline\"\n",
    "length = 9              # 6, 9 or 14\n",
    "kernel = 8              # 4, 8, 12 or 20"
   ]
  },
  {
   "cell_type": "code",
   "execution_count": 14,
   "metadata": {},
   "outputs": [],
   "source": [
    "pathfinder_dataset_path = 'section_4.5/data/pathfinder_path'+str(length)+'_test.h5'\n",
    "x_test, y_test = read_h5_dataset(pathfinder_dataset_path, scale = False)"
   ]
  },
  {
   "cell_type": "code",
   "execution_count": 15,
   "metadata": {},
   "outputs": [],
   "source": [
    "# Specify the model path (either directory or h5 file) - no trailing `/` for kernel size 20, otherwise the .h5 file directly\n",
    "pathfinder_model_path = 'section_4.5/models/'+model+'_models/'+model+'_pathfinder'+str(length)+'_kernelsize'+str(kernel)\n",
    "\n",
    "# Identify if the path given identifies a h5 file or a directory requiring untarring\n",
    "# If untarring required, extract model and update model path to extracted h5 file\n",
    "if kernel==20:\n",
    "    !sh untar.sh $pathfinder_model_path\n",
    "    a = !ls $pathfinder_model_path\n",
    "    model = [i for i in a if i.find('.h5') != -1][0]\n",
    "    pathfinder_model_path = pathfinder_model_path + '/' + model\n",
    "else:\n",
    "    pathfinder_model_path += '.h5'"
   ]
  },
  {
   "cell_type": "code",
   "execution_count": 16,
   "metadata": {},
   "outputs": [
    {
     "name": "stderr",
     "output_type": "stream",
     "text": [
      "W0218 14:30:19.476672 140338213074752 deprecation.py:323] From /usr/local/lib/python3.6/dist-packages/tensorflow/python/ops/nn_impl.py:180: add_dispatch_support.<locals>.wrapper (from tensorflow.python.ops.array_ops) is deprecated and will be removed in a future version.\n",
      "Instructions for updating:\n",
      "Use tf.where in 2.0, which has the same broadcast rule as np.where\n"
     ]
    }
   ],
   "source": [
    "# Load model\n",
    "pathfinder_model = load_model(pathfinder_model_path, custom_objects={'BilinearInterpolate3D':BilinearInterpolate3D,\n",
    "                                                                     'NetXCycle': NetXCycle})\n",
    "# Remove extracted model file if required\n",
    "if kernel==20:\n",
    "    !rm $pathfinder_model_path"
   ]
  },
  {
   "cell_type": "code",
   "execution_count": 17,
   "metadata": {
    "scrolled": false
   },
   "outputs": [
    {
     "name": "stdout",
     "output_type": "stream",
     "text": [
      "Model: \"model\"\n",
      "_________________________________________________________________\n",
      "Layer (type)                 Output Shape              Param #   \n",
      "=================================================================\n",
      "input_1 (InputLayer)         [(None, 128, 128, 1)]     0         \n",
      "_________________________________________________________________\n",
      "conv2d (Conv2D)              (None, 128, 128, 128)     8320      \n",
      "_________________________________________________________________\n",
      "batch_normalization_v1 (Batc (None, 128, 128, 128)     512       \n",
      "_________________________________________________________________\n",
      "activation (Activation)      (None, 128, 128, 128)     0         \n",
      "_________________________________________________________________\n",
      "net_x_cycle (NetXCycle)      (None, 128, 128, 128)     3147648   \n",
      "_________________________________________________________________\n",
      "global_max_pooling2d (Global (None, 128)               0         \n",
      "_________________________________________________________________\n",
      "flatten (Flatten)            (None, 128)               0         \n",
      "_________________________________________________________________\n",
      "dense (Dense)                (None, 1)                 129       \n",
      "_________________________________________________________________\n",
      "activation_2 (Activation)    (None, 1)                 0         \n",
      "=================================================================\n",
      "Total params: 3,156,609\n",
      "Trainable params: 3,155,585\n",
      "Non-trainable params: 1,024\n",
      "_________________________________________________________________\n"
     ]
    }
   ],
   "source": [
    "# Print model summary\n",
    "pathfinder_model.summary()"
   ]
  },
  {
   "cell_type": "markdown",
   "metadata": {},
   "source": [
    "Note that the orthogonal convolution cycle is defined expicitly for the CIFAR models. 'model.summary()' shows the sequence of convolution and permutations; for the pathfinder models, instead, the cycles are wrapped using a \"NetXCycle\" layer. The CIFAR models are defined explicitly to allow computing the receptive fields at different stages."
   ]
  },
  {
   "cell_type": "code",
   "execution_count": 18,
   "metadata": {},
   "outputs": [
    {
     "name": "stdout",
     "output_type": "stream",
     "text": [
      "10000/10000 [==============================] - 23s 2ms/sample - loss: 0.2660 - acc: 0.8902\n"
     ]
    }
   ],
   "source": [
    "# Evaluating \n",
    "scores = pathfinder_model.evaluate(x_test, y_test, batch_size=BATCH_SIZE)"
   ]
  }
 ],
 "metadata": {
  "kernelspec": {
   "display_name": "Python 3",
   "language": "python",
   "name": "python3"
  },
  "language_info": {
   "codemirror_mode": {
    "name": "ipython",
    "version": 3
   },
   "file_extension": ".py",
   "mimetype": "text/x-python",
   "name": "python",
   "nbconvert_exporter": "python",
   "pygments_lexer": "ipython3",
   "version": "3.6.8"
  }
 },
 "nbformat": 4,
 "nbformat_minor": 4
}
